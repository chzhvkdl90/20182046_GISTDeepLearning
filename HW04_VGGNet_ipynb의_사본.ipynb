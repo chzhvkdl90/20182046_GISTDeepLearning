{
  "nbformat": 4,
  "nbformat_minor": 0,
  "metadata": {
    "colab": {
      "name": "HW04_VGGNet.ipynb의 사본",
      "version": "0.3.2",
      "provenance": [],
      "collapsed_sections": [],
      "include_colab_link": true
    },
    "kernelspec": {
      "name": "python3",
      "display_name": "Python 3"
    },
    "accelerator": "GPU"
  },
  "cells": [
    {
      "cell_type": "markdown",
      "metadata": {
        "id": "view-in-github",
        "colab_type": "text"
      },
      "source": [
        "<a href=\"https://colab.research.google.com/github/chzhvkdl90/20182046_GISTDeepLearning/blob/master/HW04_VGGNet_ipynb%EC%9D%98_%EC%82%AC%EB%B3%B8.ipynb\" target=\"_parent\"><img src=\"https://colab.research.google.com/assets/colab-badge.svg\" alt=\"Open In Colab\"/></a>"
      ]
    },
    {
      "cell_type": "markdown",
      "metadata": {
        "id": "qtkGyAsoVwDi",
        "colab_type": "text"
      },
      "source": [
        "# HW04  VGGNet\n",
        "Deep Learning, GIST RT5101-01, 2019, Spring, (Tue/Thurs 2:30~3:45)\n",
        "***\n",
        "\n",
        "### About the VGGNet\n",
        "\n",
        "- VGGNet is invented by VGG (Visual Geometry Group) from the University of Oxford ([paper](https://www.google.com/url?sa=t&rct=j&q=&esrc=s&source=web&cd=1&ved=2ahUKEwilz7Ptu4jiAhWIdXAKHYr9BK0QFjAAegQIAhAC&url=https%3A%2F%2Farxiv.org%2Fpdf%2F1409.1556&usg=AOvVaw3u_l2DJveBaeO_vs_qyLMT))\n",
        "- VGGNet is the 1st runner-up, not the winner of the ILSVRC (ImageNet Large Scale Visual Recognition Competition) 2014 in the classification task\n",
        "- Nevertheless, VGGNet beats the GoogLeNet and won the localization task in ILSVRC 2014.\n",
        "- There are many other models built on top of VGGNet or based on the 3×3 conv idea of VGGNet for other purposes or other domains.\n",
        "- In the paper, there is 5 version of VGGNet. Here, you have to implement the VGG-16.\n",
        "\n",
        "![대체 텍스트](https://cdn-images-1.medium.com/max/1200/1*_1DEx3bHlnBApCWWQ0HgcQ.png)\n",
        "\n",
        "Your homework consists of the following steps:\n",
        "\n",
        "1. Build a VGGNet-16\n",
        "2. visualize the results after training and testing it.\n",
        "\n",
        "The codes for loading the CIFAR10 dataset will be given.   \n",
        "\n",
        "### How to submit your homework\n",
        "Submit your jupyter notebook file with the filename of  *HW04_studentnumber.ipynb*  on GEL  \n",
        "Ex) HW04_20184021.ipynb  \n",
        "Also, please **upload your graph image on GEL along with .ipynb**\n",
        "\n",
        "### Submission deadline\n",
        "2019.5.19, Sunday 23:55 (PM)\n",
        "\n",
        "### Plagiarism\n",
        "We encourage you to discuss this homework with your friends or TA, but you should write your own code.\n",
        "\n",
        "\n"
      ]
    },
    {
      "cell_type": "markdown",
      "metadata": {
        "id": "ohaQp_wqrJfs",
        "colab_type": "text"
      },
      "source": [
        "## Guide: Load CIFAR10 Dataset\n",
        "---\n",
        "Before training the VGGNet-16, Let's load CIFAR10 dataset   \n",
        "`Note: All the codes in this guide is the same as the lecture material.`\n",
        "\n"
      ]
    },
    {
      "cell_type": "markdown",
      "metadata": {
        "id": "wAWm0QAtk7x6",
        "colab_type": "text"
      },
      "source": [
        "Let's import required python package\n",
        "\n",
        "Here, ``torchvision`` module provides useful benchmark datasets and image transfromation functions\n"
      ]
    },
    {
      "cell_type": "code",
      "metadata": {
        "id": "prd_tT3NrOYk",
        "colab_type": "code",
        "colab": {}
      },
      "source": [
        "import torch\n",
        "import torch.nn as nn\n",
        "import torch.nn.functional as F\n",
        "import torch.optim as optim\n",
        "import torchvision\n",
        "import torchvision.transforms as transforms\n",
        "import torchvision.datasets as datasets"
      ],
      "execution_count": 0,
      "outputs": []
    },
    {
      "cell_type": "markdown",
      "metadata": {
        "id": "j0da9HZarW3X",
        "colab_type": "text"
      },
      "source": [
        "Define device configuration (CPU Computation or GPU Computation)"
      ]
    },
    {
      "cell_type": "code",
      "metadata": {
        "id": "VSFEnBE_rW9s",
        "colab_type": "code",
        "outputId": "e2cfd200-1e48-4e65-e36d-998fb9ebe17d",
        "colab": {
          "base_uri": "https://localhost:8080/",
          "height": 35
        }
      },
      "source": [
        "device = torch.device('cuda:0' if torch.cuda.is_available() else 'cpu')\n",
        "print(device)"
      ],
      "execution_count": 2,
      "outputs": [
        {
          "output_type": "stream",
          "text": [
            "cuda:0\n"
          ],
          "name": "stdout"
        }
      ]
    },
    {
      "cell_type": "code",
      "metadata": {
        "id": "8PiGJhj0hNHC",
        "colab_type": "code",
        "colab": {}
      },
      "source": [
        "# Hyper parameters\n",
        "num_epochs = 10 # number of epochs for train\n",
        "batch_size = 128 # do not change this value\n",
        "learning_rate = 0.0001 # do not change this value\n",
        "num_classes = 10"
      ],
      "execution_count": 0,
      "outputs": []
    },
    {
      "cell_type": "markdown",
      "metadata": {
        "id": "0lJAxpK_raTK",
        "colab_type": "text"
      },
      "source": [
        "Download CIFAR10 dataset\n",
        "\n",
        "You can check the number of dataset by printing ```len(dataset)```\n",
        "\n",
        "\n"
      ]
    },
    {
      "cell_type": "code",
      "metadata": {
        "id": "vy9OchhkoLOs",
        "colab_type": "code",
        "outputId": "e62a5864-02a1-47e6-db7b-65cc30d84121",
        "colab": {
          "base_uri": "https://localhost:8080/",
          "height": 70
        }
      },
      "source": [
        "# CIFAR10 dataset\n",
        "\n",
        "composed_transforms = transforms.Compose([transforms.Resize((224,224)),\n",
        "                                         transforms.ToTensor(),]) # 32,32 to 224,224\n",
        "\n",
        "train_dataset = torchvision.datasets.CIFAR10(root='./data',\n",
        "                                           train=True, \n",
        "                                           transform=composed_transforms,                                          \n",
        "                                           download=True)\n",
        "\n",
        "test_dataset = torchvision.datasets.CIFAR10(root='./data',\n",
        "                                          train=False, \n",
        "                                          transform=composed_transforms)\n",
        "\n",
        "print('Number of train images: {}'.format(len(train_dataset)))\n",
        "print('Number of test images: {}'.format(len(test_dataset)))\n"
      ],
      "execution_count": 4,
      "outputs": [
        {
          "output_type": "stream",
          "text": [
            "Files already downloaded and verified\n",
            "Number of train images: 50000\n",
            "Number of test images: 10000\n"
          ],
          "name": "stdout"
        }
      ]
    },
    {
      "cell_type": "markdown",
      "metadata": {
        "id": "KGiGQLaXoab0",
        "colab_type": "text"
      },
      "source": [
        "```torch.utils.data.DataLoader``` shuffles the training data and devides the entire data with ```batch_size```\n",
        "\n"
      ]
    },
    {
      "cell_type": "code",
      "metadata": {
        "id": "poIE18hKomJ6",
        "colab_type": "code",
        "colab": {}
      },
      "source": [
        "# Data loader\n",
        "train_loader = torch.utils.data.DataLoader(dataset=train_dataset,\n",
        "                                           batch_size=batch_size, \n",
        "                                           shuffle=True)\n",
        "\n",
        "test_loader = torch.utils.data.DataLoader(dataset=test_dataset,\n",
        "                                          batch_size=batch_size, \n",
        "                                          shuffle=False)"
      ],
      "execution_count": 0,
      "outputs": []
    },
    {
      "cell_type": "code",
      "metadata": {
        "id": "HYAL490idLRJ",
        "colab_type": "code",
        "outputId": "e3f15610-eee3-4142-d3e1-ac447603b21f",
        "colab": {
          "base_uri": "https://localhost:8080/",
          "height": 352
        }
      },
      "source": [
        "import matplotlib.pyplot as plt\n",
        "import numpy as np\n",
        "import random\n",
        "\n",
        "# Get single image data\n",
        "image_tensor, image_label = train_dataset.__getitem__(random.randint(0, len(train_dataset)))\n",
        "print('Size of single image tensor: {}'.format(image_tensor.size()))\n",
        "\n",
        "# Torch tensor to numpy array\n",
        "image_array = image_tensor.squeeze().numpy()\n",
        "image_array = np.transpose(image_array, (1, 2, 0))\n",
        "\n",
        "print('Size of single image array: {}\\n'.format(image_array.shape))\n",
        "\n",
        "# Plot image\n",
        "plt.title('Image of {}'.format(image_label))\n",
        "plt.imshow(image_array)\n"
      ],
      "execution_count": 28,
      "outputs": [
        {
          "output_type": "stream",
          "text": [
            "Size of single image tensor: torch.Size([3, 224, 224])\n",
            "Size of single image array: (224, 224, 3)\n",
            "\n"
          ],
          "name": "stdout"
        },
        {
          "output_type": "execute_result",
          "data": {
            "text/plain": [
              "<matplotlib.image.AxesImage at 0x7f49c37e9a20>"
            ]
          },
          "metadata": {
            "tags": []
          },
          "execution_count": 28
        },
        {
          "output_type": "display_data",
          "data": {
            "image/png": "[encoded data removed]",
            "text/plain": [
              "<Figure size 432x288 with 1 Axes>"
            ]
          },
          "metadata": {
            "tags": []
          }
        }
      ]
    },
    {
      "cell_type": "markdown",
      "metadata": {
        "id": "0xUaQUd0xjsn",
        "colab_type": "text"
      },
      "source": [
        "## Problem1. Implementation of VGGNet-16 (50%)\n",
        "\n",
        "\n",
        "- Implement the convolutional layers fully connected layers in `self.features` and `self.classifiers`, respectively.\n",
        "- VGGNet-16 consists of 13 convolutional layers and three fully connected layers.\n",
        "\n",
        "- Convolutional layers\n",
        "\n",
        "| layer       | feature maps | kernel size | stride | padding | activation |\n",
        "|:-------------:|:--------------:|-------------|--------|---------|------------|\n",
        "| input image | 1            | -           | -      | -       | -          |\n",
        "| conv1       | 64           | 3x3         | 1x1    | 1x1     | relu       |\n",
        "|    conv2    |      64      |     3x3     |   1x1  |   1x1   |    relu    |\n",
        "|   maxpool1  |      64      |     2x2     |   2x2  |    -    |      -     |\n",
        "|    conv3    |      128     |     3x3     |   1x1  |   1x1   |    relu    |\n",
        "|    conv4    |      128     |     3x3     |   1x1  |   1x1   |    relu    |\n",
        "|   maxpool2  |      128     |     2x2     |   2x2  |    -    |      -     |\n",
        "|    conv5    |      256     |     3x3     |   1x1  |   1x1   |    relu    |\n",
        "|    conv6    |      256     |     3x3     |   1x1  |   1x1   |    relu    |\n",
        "|    conv7    |      256     |     3x3     |   1x1  |   1x1   |    relu    |\n",
        "|   maxpool3  |      256     |     2x2     |   2x2  |    -    |      -     |\n",
        "|    conv8    |      512     |     3x3     |   1x1  |   1x1   |    relu    |\n",
        "|    conv9    |      512     |     3x3     |   1x1  |   1x1   |    relu    |\n",
        "|    conv10   |      512     |     3x3     |   1x1  |   1x1   |    relu    |\n",
        "|   maxpool4  |      512     |     2x2     |   2x2  |    -    |      -     |\n",
        "|    conv11   |      512     |     3x3     |   1x1  |   1x1   |    relu    |\n",
        "|    conv12   |      512     |     3x3     |   1x1  |   1x1   |    relu    |\n",
        "|    conv13   |      512     |     3x3     |   1x1  |   1x1   |    relu    |\n",
        "|   maxpool5  |      512     |     2x2     |   2x2  |    -    |      -     |\n",
        "\n",
        "- Fully connected layers.\n",
        "\n",
        "|  layer  | size | activation |\n",
        "|:-------:|:----:|:----------:|\n",
        "| linear1 | 4096 |    relu    |\n",
        "| dropout |   -  |      -     |\n",
        "| linear2 | 4096 |    relu    |\n",
        "| dropout |   -  |      -     |\n",
        "| linear3 | 4096 |  num_class |\n",
        "\n",
        "\n",
        "[Reference](https://https://medium.com/coinmonks/paper-review-of-vggnet-1st-runner-up-of-ilsvlc-2014-image-classification-d02355543a11)"
      ]
    },
    {
      "cell_type": "code",
      "metadata": {
        "id": "e-iZxpBGyjrd",
        "colab_type": "code",
        "colab": {}
      },
      "source": [
        "class VGGNet(nn.Module):\n",
        "    def __init__(self):\n",
        "        super(VGGNet, self).__init__()\n",
        "        \n",
        "        self.features = nn.Sequential(\n",
        "            # convolutional layers\n",
        "            nn.Conv2d(3, 64, kernel_size=3, stride=1, padding=1), ## conv1\n",
        "            nn.ReLU(inplace=True),\n",
        "            nn.Conv2d(64, 64, kernel_size=3, stride=1, padding=1), ## conv2\n",
        "            nn.ReLU(inplace=True),\n",
        "            nn.MaxPool2d(kernel_size=2, stride=2), ## maxpool1\n",
        "            \n",
        "            nn.Conv2d(64, 128, kernel_size=3, stride=1, padding=1), ## conv3\n",
        "            nn.ReLU(inplace=True),\n",
        "            nn.Conv2d(128, 128, kernel_size=3, stride=1, padding=1), ## conv4\n",
        "            nn.ReLU(inplace=True),\n",
        "            nn.MaxPool2d(kernel_size=2, stride=2),## maxpool2\n",
        "            \n",
        "            nn.Conv2d(128, 256, kernel_size=3, stride=1, padding=1), ## conv5\n",
        "            nn.ReLU(inplace=True),\n",
        "            nn.Conv2d(256, 256, kernel_size=3, stride=1, padding=1), ## conv6\n",
        "            nn.ReLU(inplace=True),\n",
        "            nn.Conv2d(256, 256, kernel_size=3, stride=1 , padding=1), ## conv7\n",
        "            nn.ReLU(inplace=True),\n",
        "            nn.MaxPool2d(kernel_size=2, stride=2),## maxpool3\n",
        "        \n",
        "            nn.Conv2d(256, 512, kernel_size=3, stride=1, padding=1), ## conv8\n",
        "            nn.ReLU(inplace=True),\n",
        "            nn.Conv2d(512, 512, kernel_size=3, stride=1, padding=1), ## conv9\n",
        "            nn.ReLU(inplace=True),\n",
        "            nn.Conv2d(512, 512, kernel_size=3, stride=1, padding=1), ## conv10\n",
        "            nn.ReLU(inplace=True),\n",
        "            nn.MaxPool2d(kernel_size=2, stride=2),## maxpool4\n",
        "            \n",
        "            nn.Conv2d(512, 512, kernel_size=3, stride=1, padding=1), ## conv11\n",
        "            nn.ReLU(inplace=True),\n",
        "            nn.Conv2d(512, 512, kernel_size=3, stride=1, padding=1), ## conv12\n",
        "            nn.ReLU(inplace=True),\n",
        "            nn.Conv2d(512, 512, kernel_size=3, stride=1, padding=1), ## conv13\n",
        "            nn.ReLU(inplace=True),\n",
        "            nn.MaxPool2d(kernel_size=2, stride=2),## maxpool5\n",
        "            \n",
        "        )\n",
        "        \n",
        "        self.classifier = nn.Sequential(\n",
        "            # fully connected layers\n",
        "             nn.Linear(512*7*7, 4096), ## 6\n",
        "             nn.ReLU(inplace=True),\n",
        "             nn.Dropout(),\n",
        "            \n",
        "             nn.Linear(4096, 4096), ## 7\n",
        "             nn.ReLU(inplace=True),\n",
        "             nn.Dropout(),\n",
        "            \n",
        "             nn.Linear(4096, num_classes), ##8\n",
        "        )\n",
        "\n",
        "    def forward(self, x):\n",
        "        x = self.features(x)\n",
        "        x = x.view(x.shape[0], -1)\n",
        "        x = self.classifier(x)\n",
        "        return x"
      ],
      "execution_count": 0,
      "outputs": []
    },
    {
      "cell_type": "code",
      "metadata": {
        "id": "u8_sx5UGkUwn",
        "colab_type": "code",
        "outputId": "72096e09-3b9a-4022-eca8-111f0f964bc3",
        "colab": {
          "base_uri": "https://localhost:8080/",
          "height": 817
        }
      },
      "source": [
        "model = VGGNet().to(device)\n",
        "print('Number of parameters: {}'.format(sum(p.numel() for p in model.parameters())))\n",
        "print(model)"
      ],
      "execution_count": 34,
      "outputs": [
        {
          "output_type": "stream",
          "text": [
            "Number of parameters: 134301514\n",
            "VGGNet(\n",
            "  (features): Sequential(\n",
            "    (0): Conv2d(3, 64, kernel_size=(3, 3), stride=(1, 1), padding=(1, 1))\n",
            "    (1): ReLU(inplace)\n",
            "    (2): Conv2d(64, 64, kernel_size=(3, 3), stride=(1, 1), padding=(1, 1))\n",
            "    (3): ReLU(inplace)\n",
            "    (4): MaxPool2d(kernel_size=2, stride=2, padding=0, dilation=1, ceil_mode=False)\n",
            "    (5): Conv2d(64, 128, kernel_size=(3, 3), stride=(1, 1), padding=(1, 1))\n",
            "    (6): ReLU(inplace)\n",
            "    (7): Conv2d(128, 128, kernel_size=(3, 3), stride=(1, 1), padding=(1, 1))\n",
            "    (8): ReLU(inplace)\n",
            "    (9): MaxPool2d(kernel_size=2, stride=2, padding=0, dilation=1, ceil_mode=False)\n",
            "    (10): Conv2d(128, 256, kernel_size=(3, 3), stride=(1, 1), padding=(1, 1))\n",
            "    (11): ReLU(inplace)\n",
            "    (12): Conv2d(256, 256, kernel_size=(3, 3), stride=(1, 1), padding=(1, 1))\n",
            "    (13): ReLU(inplace)\n",
            "    (14): Conv2d(256, 256, kernel_size=(3, 3), stride=(1, 1), padding=(1, 1))\n",
            "    (15): ReLU(inplace)\n",
            "    (16): MaxPool2d(kernel_size=2, stride=2, padding=0, dilation=1, ceil_mode=False)\n",
            "    (17): Conv2d(256, 512, kernel_size=(3, 3), stride=(1, 1), padding=(1, 1))\n",
            "    (18): ReLU(inplace)\n",
            "    (19): Conv2d(512, 512, kernel_size=(3, 3), stride=(1, 1), padding=(1, 1))\n",
            "    (20): ReLU(inplace)\n",
            "    (21): Conv2d(512, 512, kernel_size=(3, 3), stride=(1, 1), padding=(1, 1))\n",
            "    (22): ReLU(inplace)\n",
            "    (23): MaxPool2d(kernel_size=2, stride=2, padding=0, dilation=1, ceil_mode=False)\n",
            "    (24): Conv2d(512, 512, kernel_size=(3, 3), stride=(1, 1), padding=(1, 1))\n",
            "    (25): ReLU(inplace)\n",
            "    (26): Conv2d(512, 512, kernel_size=(3, 3), stride=(1, 1), padding=(1, 1))\n",
            "    (27): ReLU(inplace)\n",
            "    (28): Conv2d(512, 512, kernel_size=(3, 3), stride=(1, 1), padding=(1, 1))\n",
            "    (29): ReLU(inplace)\n",
            "    (30): MaxPool2d(kernel_size=2, stride=2, padding=0, dilation=1, ceil_mode=False)\n",
            "  )\n",
            "  (classifier): Sequential(\n",
            "    (0): Linear(in_features=25088, out_features=4096, bias=True)\n",
            "    (1): ReLU(inplace)\n",
            "    (2): Dropout(p=0.5)\n",
            "    (3): Linear(in_features=4096, out_features=4096, bias=True)\n",
            "    (4): ReLU(inplace)\n",
            "    (5): Dropout(p=0.5)\n",
            "    (6): Linear(in_features=4096, out_features=10, bias=True)\n",
            "  )\n",
            ")\n"
          ],
          "name": "stdout"
        }
      ]
    },
    {
      "cell_type": "markdown",
      "metadata": {
        "id": "fDLkdlvur1TN",
        "colab_type": "text"
      },
      "source": [
        "## Problem2. Train and Test the VGGNet-16 (50%)\n",
        "\n",
        "1.  Define the criterion and optimizer (use the CrossEntropyLoss and Adam optimizer)\n",
        "- Using the `train_loader`, train the VGGNet on CIFAR10 dataset for ten epoch \n",
        "- While training, monitor the **training loss and accuracy** and draw the graph (loss vs. epoch | accuracy vs. epoch) with matplotlib or tensorboardX\n",
        "- After training the model, compute and print the **validation loss and accuracy** by running your trained model on the test dataset. (Use the `test_loader`)"
      ]
    },
    {
      "cell_type": "code",
      "metadata": {
        "id": "ANHGWabgyewV",
        "colab_type": "code",
        "colab": {}
      },
      "source": [
        "#Define the criterion and optimizer (Use the CrossEntropyLoss and Adam optimizer)\n",
        "criterion = nn.CrossEntropyLoss()\n",
        "optimizer = torch.optim.Adam(model.parameters(), lr=learning_rate)"
      ],
      "execution_count": 0,
      "outputs": []
    },
    {
      "cell_type": "code",
      "metadata": {
        "id": "-lMuEiGhyvmI",
        "colab_type": "code",
        "outputId": "9ffe83d8-b9bb-49d6-c87f-ef73f7e1c5cc",
        "colab": {
          "base_uri": "https://localhost:8080/",
          "height": 88
        }
      },
      "source": [
        "model_input = image_tensor.unsqueeze(dim=0).to(device) # (3, 32, 32) -> (1, 3, 32, 32)\n",
        "print(np.shape(model_input))\n",
        "model_output = model(model_input)\n",
        "print('Model output: {}'.format(model_output.data))\n",
        "print('Argmax of model output: {}'.format((model_output == torch.max(model_output))))"
      ],
      "execution_count": 36,
      "outputs": [
        {
          "output_type": "stream",
          "text": [
            "torch.Size([1, 3, 224, 224])\n",
            "Model output: tensor([[-0.0060, -0.0142,  0.0013,  0.0144, -0.0081,  0.0164, -0.0016, -0.0037,\n",
            "          0.0018, -0.0075]], device='cuda:0')\n",
            "Argmax of model output: tensor([[0, 0, 0, 0, 0, 1, 0, 0, 0, 0]], device='cuda:0', dtype=torch.uint8)\n"
          ],
          "name": "stdout"
        }
      ]
    },
    {
      "cell_type": "code",
      "metadata": {
        "id": "AipPreu3y90P",
        "colab_type": "code",
        "colab": {}
      },
      "source": [
        "total_step = len(train_loader)\n",
        "for epoch in range(num_epochs):\n",
        "    for i, (images, labels) in enumerate(train_loader):\n",
        "        images = images.to(device)\n",
        "        labels = labels.to(device)\n",
        "        \n",
        "        # Forward pass\n",
        "        outputs = model(images)\n",
        "        loss = criterion(outputs, labels)\n",
        "        \n",
        "        # Backward and optimize\n",
        "        optimizer.zero_grad()\n",
        "        loss.backward()\n",
        "        optimizer.step()\n",
        "        \n",
        "        if (i+1) % 100 == 0:\n",
        "            print ('Epoch [{}/{}], Step [{}/{}], Loss: {:.4f}'\n",
        "                   .format(epoch+1, num_epochs, i+1, total_step, loss.item()))"
      ],
      "execution_count": 0,
      "outputs": []
    },
    {
      "cell_type": "code",
      "metadata": {
        "id": "2wGRcWjwzH7f",
        "colab_type": "code",
        "colab": {}
      },
      "source": [
        "model.eval()\n",
        "with torch.no_grad():\n",
        "    correct = 0\n",
        "    total = 0\n",
        "    for images, labels in test_loader:\n",
        "        images = images.to(device)\n",
        "        labels = labels.to(device)\n",
        "        outputs = model(images)\n",
        "        _, predicted = torch.max(outputs.data, 1)\n",
        "        total += labels.size(0)\n",
        "        correct += (predicted == labels).sum().item()\n",
        "\n",
        "    print('Test Accuracy of the model on the 10000 test images: {} %'.format(100 * correct / total))"
      ],
      "execution_count": 0,
      "outputs": []
    }
  ]
}